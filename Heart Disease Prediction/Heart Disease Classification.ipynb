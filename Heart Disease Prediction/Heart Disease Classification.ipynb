{
 "cells": [
  {
   "cell_type": "markdown",
   "id": "9f79438b",
   "metadata": {},
   "source": [
    "### What is Logistic Regression?\n",
    "###### Logistic Regression is a “Supervised machine learning” algorithm that can be used to model the probability of a certain class or event. It is used when the data is linearly separable"
   ]
  },
  {
   "cell_type": "code",
   "execution_count": 1,
   "id": "a1060c6f",
   "metadata": {},
   "outputs": [],
   "source": [
    "import pandas as pd\n",
    "import numpy as np\n",
    "import seaborn as sns\n",
    "import matplotlib.pyplot as plt"
   ]
  },
  {
   "cell_type": "code",
   "execution_count": 2,
   "id": "989b4987",
   "metadata": {},
   "outputs": [],
   "source": [
    "df = pd.read_csv(r'C:\\Users\\Education\\Desktop\\heart.csv')"
   ]
  },
  {
   "cell_type": "code",
   "execution_count": 3,
   "id": "7cc4ace5",
   "metadata": {},
   "outputs": [
    {
     "data": {
      "text/html": [
       "<div>\n",
       "<style scoped>\n",
       "    .dataframe tbody tr th:only-of-type {\n",
       "        vertical-align: middle;\n",
       "    }\n",
       "\n",
       "    .dataframe tbody tr th {\n",
       "        vertical-align: top;\n",
       "    }\n",
       "\n",
       "    .dataframe thead th {\n",
       "        text-align: right;\n",
       "    }\n",
       "</style>\n",
       "<table border=\"1\" class=\"dataframe\">\n",
       "  <thead>\n",
       "    <tr style=\"text-align: right;\">\n",
       "      <th></th>\n",
       "      <th>age</th>\n",
       "      <th>sex</th>\n",
       "      <th>cp</th>\n",
       "      <th>trestbps</th>\n",
       "      <th>chol</th>\n",
       "      <th>fbs</th>\n",
       "      <th>restecg</th>\n",
       "      <th>thalach</th>\n",
       "      <th>exang</th>\n",
       "      <th>oldpeak</th>\n",
       "      <th>slope</th>\n",
       "      <th>ca</th>\n",
       "      <th>thal</th>\n",
       "      <th>target</th>\n",
       "    </tr>\n",
       "  </thead>\n",
       "  <tbody>\n",
       "    <tr>\n",
       "      <th>0</th>\n",
       "      <td>52</td>\n",
       "      <td>1</td>\n",
       "      <td>0</td>\n",
       "      <td>125</td>\n",
       "      <td>212</td>\n",
       "      <td>0</td>\n",
       "      <td>1</td>\n",
       "      <td>168</td>\n",
       "      <td>0</td>\n",
       "      <td>1.0</td>\n",
       "      <td>2</td>\n",
       "      <td>2</td>\n",
       "      <td>3</td>\n",
       "      <td>0</td>\n",
       "    </tr>\n",
       "    <tr>\n",
       "      <th>1</th>\n",
       "      <td>53</td>\n",
       "      <td>1</td>\n",
       "      <td>0</td>\n",
       "      <td>140</td>\n",
       "      <td>203</td>\n",
       "      <td>1</td>\n",
       "      <td>0</td>\n",
       "      <td>155</td>\n",
       "      <td>1</td>\n",
       "      <td>3.1</td>\n",
       "      <td>0</td>\n",
       "      <td>0</td>\n",
       "      <td>3</td>\n",
       "      <td>0</td>\n",
       "    </tr>\n",
       "    <tr>\n",
       "      <th>2</th>\n",
       "      <td>70</td>\n",
       "      <td>1</td>\n",
       "      <td>0</td>\n",
       "      <td>145</td>\n",
       "      <td>174</td>\n",
       "      <td>0</td>\n",
       "      <td>1</td>\n",
       "      <td>125</td>\n",
       "      <td>1</td>\n",
       "      <td>2.6</td>\n",
       "      <td>0</td>\n",
       "      <td>0</td>\n",
       "      <td>3</td>\n",
       "      <td>0</td>\n",
       "    </tr>\n",
       "    <tr>\n",
       "      <th>3</th>\n",
       "      <td>61</td>\n",
       "      <td>1</td>\n",
       "      <td>0</td>\n",
       "      <td>148</td>\n",
       "      <td>203</td>\n",
       "      <td>0</td>\n",
       "      <td>1</td>\n",
       "      <td>161</td>\n",
       "      <td>0</td>\n",
       "      <td>0.0</td>\n",
       "      <td>2</td>\n",
       "      <td>1</td>\n",
       "      <td>3</td>\n",
       "      <td>0</td>\n",
       "    </tr>\n",
       "    <tr>\n",
       "      <th>4</th>\n",
       "      <td>62</td>\n",
       "      <td>0</td>\n",
       "      <td>0</td>\n",
       "      <td>138</td>\n",
       "      <td>294</td>\n",
       "      <td>1</td>\n",
       "      <td>1</td>\n",
       "      <td>106</td>\n",
       "      <td>0</td>\n",
       "      <td>1.9</td>\n",
       "      <td>1</td>\n",
       "      <td>3</td>\n",
       "      <td>2</td>\n",
       "      <td>0</td>\n",
       "    </tr>\n",
       "  </tbody>\n",
       "</table>\n",
       "</div>"
      ],
      "text/plain": [
       "   age  sex  cp  trestbps  chol  fbs  restecg  thalach  exang  oldpeak  slope  \\\n",
       "0   52    1   0       125   212    0        1      168      0      1.0      2   \n",
       "1   53    1   0       140   203    1        0      155      1      3.1      0   \n",
       "2   70    1   0       145   174    0        1      125      1      2.6      0   \n",
       "3   61    1   0       148   203    0        1      161      0      0.0      2   \n",
       "4   62    0   0       138   294    1        1      106      0      1.9      1   \n",
       "\n",
       "   ca  thal  target  \n",
       "0   2     3       0  \n",
       "1   0     3       0  \n",
       "2   0     3       0  \n",
       "3   1     3       0  \n",
       "4   3     2       0  "
      ]
     },
     "execution_count": 3,
     "metadata": {},
     "output_type": "execute_result"
    }
   ],
   "source": [
    "df.head()"
   ]
  },
  {
   "cell_type": "code",
   "execution_count": 4,
   "id": "d9d88c61",
   "metadata": {},
   "outputs": [
    {
     "data": {
      "text/plain": [
       "(1025, 14)"
      ]
     },
     "execution_count": 4,
     "metadata": {},
     "output_type": "execute_result"
    }
   ],
   "source": [
    "df.shape"
   ]
  },
  {
   "cell_type": "code",
   "execution_count": 5,
   "id": "1cc92206",
   "metadata": {},
   "outputs": [
    {
     "data": {
      "text/plain": [
       "Index(['age', 'sex', 'cp', 'trestbps', 'chol', 'fbs', 'restecg', 'thalach',\n",
       "       'exang', 'oldpeak', 'slope', 'ca', 'thal', 'target'],\n",
       "      dtype='object')"
      ]
     },
     "execution_count": 5,
     "metadata": {},
     "output_type": "execute_result"
    }
   ],
   "source": [
    "df.columns"
   ]
  },
  {
   "cell_type": "markdown",
   "id": "e52ef10c",
   "metadata": {},
   "source": [
    "### CP- chest pain type (0,1,2)\n",
    "### Trestbps - resting blood pressure (in mm Hg on admission to the hospital)\n",
    "### chol- serum cholestoral in mg/dl\n",
    "### fbs\t- (fasting blood sugar &gt; 120 mg/dl) (1 = true; 0 = false)\n",
    "### thalach - maximum heart rate achieved\n",
    "### exang- exercise induced angina\n",
    "### oldpeak- ST depression induced by exercise relative to rest\n",
    "### Slope - the slope of the peak exercise ST segment\n",
    "### ca - number of major vessels (0-3) colored by flourosopy\n",
    "### thal - A blood disorder called thalassemia 1 = normal; 2 = fixed defect; 3 = reversable defect"
   ]
  },
  {
   "cell_type": "code",
   "execution_count": 6,
   "id": "7dbbd53e",
   "metadata": {},
   "outputs": [
    {
     "name": "stdout",
     "output_type": "stream",
     "text": [
      "<class 'pandas.core.frame.DataFrame'>\n",
      "RangeIndex: 1025 entries, 0 to 1024\n",
      "Data columns (total 14 columns):\n",
      " #   Column    Non-Null Count  Dtype  \n",
      "---  ------    --------------  -----  \n",
      " 0   age       1025 non-null   int64  \n",
      " 1   sex       1025 non-null   int64  \n",
      " 2   cp        1025 non-null   int64  \n",
      " 3   trestbps  1025 non-null   int64  \n",
      " 4   chol      1025 non-null   int64  \n",
      " 5   fbs       1025 non-null   int64  \n",
      " 6   restecg   1025 non-null   int64  \n",
      " 7   thalach   1025 non-null   int64  \n",
      " 8   exang     1025 non-null   int64  \n",
      " 9   oldpeak   1025 non-null   float64\n",
      " 10  slope     1025 non-null   int64  \n",
      " 11  ca        1025 non-null   int64  \n",
      " 12  thal      1025 non-null   int64  \n",
      " 13  target    1025 non-null   int64  \n",
      "dtypes: float64(1), int64(13)\n",
      "memory usage: 112.2 KB\n"
     ]
    }
   ],
   "source": [
    "df.info()"
   ]
  },
  {
   "cell_type": "code",
   "execution_count": 7,
   "id": "28a5732b",
   "metadata": {},
   "outputs": [
    {
     "data": {
      "text/plain": [
       "[Text(0.5, 0, '')]"
      ]
     },
     "execution_count": 7,
     "metadata": {},
     "output_type": "execute_result"
    },
    {
     "data": {
      "image/png": "[encoded data removed]",
      "text/plain": [
       "<Figure size 640x480 with 1 Axes>"
      ]
     },
     "metadata": {},
     "output_type": "display_data"
    }
   ],
   "source": [
    "sns.countplot(x=\"target\", data=df).set(xlabel=None)\n"
   ]
  },
  {
   "cell_type": "markdown",
   "id": "dab6883e",
   "metadata": {},
   "source": [
    "### Above graph is showing that the data is class balance data."
   ]
  },
  {
   "cell_type": "code",
   "execution_count": 8,
   "id": "688f99f8",
   "metadata": {},
   "outputs": [
    {
     "data": {
      "image/png": "[encoded data removed]",
      "text/plain": [
       "<Figure size 1000x700 with 4 Axes>"
      ]
     },
     "metadata": {},
     "output_type": "display_data"
    }
   ],
   "source": [
    "fig, axes = plt.subplots(nrows=2, ncols=2, sharey=False, figsize=(10, 7))\n",
    "\n",
    "for idx, feat in enumerate(['cp', 'thal', 'restecg', 'slope']):\n",
    "    ax = axes[idx//2, idx % 2]\n",
    "    sns.countplot(x=feat, hue=\"target\", data=df, ax=ax);\n",
    "    ax.set_xlabel(\"\")\n",
    "    ax.set_ylabel(feat)\n",
    "fig.tight_layout();"
   ]
  },
  {
   "cell_type": "code",
   "execution_count": 9,
   "id": "963064c8",
   "metadata": {},
   "outputs": [
    {
     "data": {
      "text/plain": [
       "<seaborn.axisgrid.FacetGrid at 0x1adbb451d00>"
      ]
     },
     "execution_count": 9,
     "metadata": {},
     "output_type": "execute_result"
    },
    {
     "data": {
      "image/png": "[encoded data removed]",
      "text/plain": [
       "<Figure size 600x300 with 2 Axes>"
      ]
     },
     "metadata": {},
     "output_type": "display_data"
    }
   ],
   "source": [
    "g = sns.FacetGrid(data=df[df[\"age\"].notna()], col=\"target\")\n",
    "g.map(plt.hist, \"age\")"
   ]
  },
  {
   "cell_type": "code",
   "execution_count": 10,
   "id": "5af299c0",
   "metadata": {},
   "outputs": [],
   "source": [
    "from sklearn.model_selection import train_test_split"
   ]
  },
  {
   "cell_type": "code",
   "execution_count": 11,
   "id": "a7474b02",
   "metadata": {},
   "outputs": [],
   "source": [
    "x_trainN,x_test,y_trainN,y_test = train_test_split(df.iloc[:,0:-1],df.iloc[:,-1],test_size=0.2,random_state=2)"
   ]
  },
  {
   "cell_type": "code",
   "execution_count": 12,
   "id": "37244554",
   "metadata": {},
   "outputs": [],
   "source": [
    "x_train,x_cv,y_train,y_cv = train_test_split(x_trainN,y_trainN,test_size=0.2,random_state=2)"
   ]
  },
  {
   "cell_type": "code",
   "execution_count": 13,
   "id": "bc9382e9",
   "metadata": {},
   "outputs": [],
   "source": [
    "from sklearn.linear_model import LogisticRegression"
   ]
  },
  {
   "cell_type": "code",
   "execution_count": 14,
   "id": "83cd517e",
   "metadata": {},
   "outputs": [],
   "source": [
    "clf1 = LogisticRegression()"
   ]
  },
  {
   "cell_type": "code",
   "execution_count": 15,
   "id": "dbf00641",
   "metadata": {},
   "outputs": [
    {
     "name": "stderr",
     "output_type": "stream",
     "text": [
      "C:\\Users\\Education\\anaconda3\\lib\\site-packages\\sklearn\\linear_model\\_logistic.py:814: ConvergenceWarning: lbfgs failed to converge (status=1):\n",
      "STOP: TOTAL NO. of ITERATIONS REACHED LIMIT.\n",
      "\n",
      "Increase the number of iterations (max_iter) or scale the data as shown in:\n",
      "    https://scikit-learn.org/stable/modules/preprocessing.html\n",
      "Please also refer to the documentation for alternative solver options:\n",
      "    https://scikit-learn.org/stable/modules/linear_model.html#logistic-regression\n",
      "  n_iter_i = _check_optimize_result(\n"
     ]
    },
    {
     "data": {
      "text/plain": [
       "LogisticRegression()"
      ]
     },
     "execution_count": 15,
     "metadata": {},
     "output_type": "execute_result"
    }
   ],
   "source": [
    "clf1.fit(x_train,y_train)"
   ]
  },
  {
   "cell_type": "code",
   "execution_count": 16,
   "id": "29ab654d",
   "metadata": {},
   "outputs": [],
   "source": [
    "y_predcv = clf1.predict(x_cv)"
   ]
  },
  {
   "cell_type": "markdown",
   "id": "66fc03cf",
   "metadata": {},
   "source": [
    "### Sigmoid function "
   ]
  },
  {
   "attachments": {
    "image.png": {
     "image/png": "[encoded data removed]"
    }
   },
   "cell_type": "markdown",
   "id": "a4d0f533",
   "metadata": {},
   "source": [
    "![image.png](attachment:image.png)"
   ]
  },
  {
   "cell_type": "code",
   "execution_count": 17,
   "id": "67212090",
   "metadata": {},
   "outputs": [
    {
     "name": "stdout",
     "output_type": "stream",
     "text": [
      "Accuracy of Logistic Regression in test data 0.8292682926829268\n",
      "Accuracy of Logistic Regression in train data 0.836890243902439\n"
     ]
    }
   ],
   "source": [
    "from sklearn.metrics import accuracy_score,confusion_matrix\n",
    "y_pred_train1 = clf1.predict(x_train,)\n",
    "print(\"Accuracy of Logistic Regression in test data\",accuracy_score(y_cv,y_predcv))\n",
    "print(\"Accuracy of Logistic Regression in train data\",accuracy_score(y_train,y_pred_train1))"
   ]
  },
  {
   "cell_type": "code",
   "execution_count": 18,
   "id": "532e10d9",
   "metadata": {},
   "outputs": [
    {
     "data": {
      "text/html": [
       "<div>\n",
       "<style scoped>\n",
       "    .dataframe tbody tr th:only-of-type {\n",
       "        vertical-align: middle;\n",
       "    }\n",
       "\n",
       "    .dataframe tbody tr th {\n",
       "        vertical-align: top;\n",
       "    }\n",
       "\n",
       "    .dataframe thead th {\n",
       "        text-align: right;\n",
       "    }\n",
       "</style>\n",
       "<table border=\"1\" class=\"dataframe\">\n",
       "  <thead>\n",
       "    <tr style=\"text-align: right;\">\n",
       "      <th></th>\n",
       "      <th>0</th>\n",
       "      <th>1</th>\n",
       "    </tr>\n",
       "  </thead>\n",
       "  <tbody>\n",
       "    <tr>\n",
       "      <th>0</th>\n",
       "      <td>63</td>\n",
       "      <td>22</td>\n",
       "    </tr>\n",
       "    <tr>\n",
       "      <th>1</th>\n",
       "      <td>6</td>\n",
       "      <td>73</td>\n",
       "    </tr>\n",
       "  </tbody>\n",
       "</table>\n",
       "</div>"
      ],
      "text/plain": [
       "    0   1\n",
       "0  63  22\n",
       "1   6  73"
      ]
     },
     "execution_count": 18,
     "metadata": {},
     "output_type": "execute_result"
    }
   ],
   "source": [
    "pd.DataFrame(confusion_matrix(y_cv,y_predcv),columns=list(range(0,2)))"
   ]
  },
  {
   "cell_type": "code",
   "execution_count": 19,
   "id": "15c8c630",
   "metadata": {},
   "outputs": [
    {
     "data": {
      "text/html": [
       "<div>\n",
       "<style scoped>\n",
       "    .dataframe tbody tr th:only-of-type {\n",
       "        vertical-align: middle;\n",
       "    }\n",
       "\n",
       "    .dataframe tbody tr th {\n",
       "        vertical-align: top;\n",
       "    }\n",
       "\n",
       "    .dataframe thead th {\n",
       "        text-align: right;\n",
       "    }\n",
       "</style>\n",
       "<table border=\"1\" class=\"dataframe\">\n",
       "  <thead>\n",
       "    <tr style=\"text-align: right;\">\n",
       "      <th></th>\n",
       "      <th>Actual Label</th>\n",
       "      <th>Logistic Regression Prediction</th>\n",
       "      <th>sigmoid values</th>\n",
       "    </tr>\n",
       "  </thead>\n",
       "  <tbody>\n",
       "    <tr>\n",
       "      <th>691</th>\n",
       "      <td>1</td>\n",
       "      <td>1</td>\n",
       "      <td>0.862230</td>\n",
       "    </tr>\n",
       "    <tr>\n",
       "      <th>64</th>\n",
       "      <td>1</td>\n",
       "      <td>1</td>\n",
       "      <td>0.924376</td>\n",
       "    </tr>\n",
       "    <tr>\n",
       "      <th>744</th>\n",
       "      <td>1</td>\n",
       "      <td>1</td>\n",
       "      <td>0.985966</td>\n",
       "    </tr>\n",
       "    <tr>\n",
       "      <th>805</th>\n",
       "      <td>1</td>\n",
       "      <td>0</td>\n",
       "      <td>0.058846</td>\n",
       "    </tr>\n",
       "    <tr>\n",
       "      <th>938</th>\n",
       "      <td>1</td>\n",
       "      <td>0</td>\n",
       "      <td>0.058846</td>\n",
       "    </tr>\n",
       "    <tr>\n",
       "      <th>487</th>\n",
       "      <td>0</td>\n",
       "      <td>0</td>\n",
       "      <td>0.024129</td>\n",
       "    </tr>\n",
       "    <tr>\n",
       "      <th>666</th>\n",
       "      <td>1</td>\n",
       "      <td>1</td>\n",
       "      <td>0.925371</td>\n",
       "    </tr>\n",
       "    <tr>\n",
       "      <th>1022</th>\n",
       "      <td>0</td>\n",
       "      <td>0</td>\n",
       "      <td>0.048043</td>\n",
       "    </tr>\n",
       "    <tr>\n",
       "      <th>252</th>\n",
       "      <td>0</td>\n",
       "      <td>0</td>\n",
       "      <td>0.036810</td>\n",
       "    </tr>\n",
       "    <tr>\n",
       "      <th>824</th>\n",
       "      <td>0</td>\n",
       "      <td>0</td>\n",
       "      <td>0.015844</td>\n",
       "    </tr>\n",
       "  </tbody>\n",
       "</table>\n",
       "</div>"
      ],
      "text/plain": [
       "      Actual Label  Logistic Regression Prediction  sigmoid values\n",
       "691              1                               1        0.862230\n",
       "64               1                               1        0.924376\n",
       "744              1                               1        0.985966\n",
       "805              1                               0        0.058846\n",
       "938              1                               0        0.058846\n",
       "487              0                               0        0.024129\n",
       "666              1                               1        0.925371\n",
       "1022             0                               0        0.048043\n",
       "252              0                               0        0.036810\n",
       "824              0                               0        0.015844"
      ]
     },
     "execution_count": 19,
     "metadata": {},
     "output_type": "execute_result"
    }
   ],
   "source": [
    "result = pd.DataFrame()\n",
    "result['Actual Label'] = y_cv\n",
    "result['Logistic Regression Prediction'] = y_predcv\n",
    "y_pred_proba = clf1.predict_proba(x_cv)\n",
    "result['sigmoid values'] = y_pred_proba[:,1]\n",
    "result.head(10)"
   ]
  },
  {
   "cell_type": "code",
   "execution_count": 20,
   "id": "1a9a3294",
   "metadata": {},
   "outputs": [],
   "source": [
    "from sklearn.metrics import recall_score,precision_score,f1_score"
   ]
  },
  {
   "cell_type": "code",
   "execution_count": 21,
   "id": "98ce9ef9",
   "metadata": {},
   "outputs": [
    {
     "name": "stdout",
     "output_type": "stream",
     "text": [
      "For Logistic regression Model\n",
      "--------------------------------------------------\n",
      "Precision -  0.7684210526315789\n",
      "Recall -  0.9240506329113924\n",
      "F1 score -  0.8390804597701149\n"
     ]
    }
   ],
   "source": [
    "print(\"For Logistic regression Model\")\n",
    "print(\"-\"*50)\n",
    "print(\"Precision - \",precision_score(y_cv,y_predcv))\n",
    "print(\"Recall - \",recall_score(y_cv,y_predcv))\n",
    "print(\"F1 score - \",f1_score(y_cv,y_predcv))"
   ]
  },
  {
   "cell_type": "code",
   "execution_count": 22,
   "id": "0fc4094a",
   "metadata": {},
   "outputs": [
    {
     "name": "stdout",
     "output_type": "stream",
     "text": [
      "confusion matrix for probability 0.3\n",
      "    0   1\n",
      "0  58  27\n",
      "1   4  75\n",
      "Accuracy of Logistic Regression in cv data 0.8109756097560976\n",
      "Accuracy of Logistic Regression in train data 0.8292682926829268\n",
      "_________________________________\n",
      "confusion matrix for probability 0.32\n",
      "    0   1\n",
      "0  59  26\n",
      "1   4  75\n",
      "Accuracy of Logistic Regression in cv data 0.8170731707317073\n",
      "Accuracy of Logistic Regression in train data 0.8307926829268293\n",
      "_________________________________\n",
      "confusion matrix for probability 0.34\n",
      "    0   1\n",
      "0  59  26\n",
      "1   4  75\n",
      "Accuracy of Logistic Regression in cv data 0.8170731707317073\n",
      "Accuracy of Logistic Regression in train data 0.8307926829268293\n",
      "_________________________________\n",
      "confusion matrix for probability 0.36000000000000004\n",
      "    0   1\n",
      "0  61  24\n",
      "1   4  75\n",
      "Accuracy of Logistic Regression in cv data 0.8292682926829268\n",
      "Accuracy of Logistic Regression in train data 0.8292682926829268\n",
      "_________________________________\n",
      "confusion matrix for probability 0.38000000000000006\n",
      "    0   1\n",
      "0  61  24\n",
      "1   4  75\n",
      "Accuracy of Logistic Regression in cv data 0.8292682926829268\n",
      "Accuracy of Logistic Regression in train data 0.8338414634146342\n",
      "_________________________________\n",
      "confusion matrix for probability 0.4000000000000001\n",
      "    0   1\n",
      "0  61  24\n",
      "1   4  75\n",
      "Accuracy of Logistic Regression in cv data 0.8292682926829268\n",
      "Accuracy of Logistic Regression in train data 0.8338414634146342\n",
      "_________________________________\n",
      "confusion matrix for probability 0.4200000000000001\n",
      "    0   1\n",
      "0  62  23\n",
      "1   4  75\n",
      "Accuracy of Logistic Regression in cv data 0.8353658536585366\n",
      "Accuracy of Logistic Regression in train data 0.8353658536585366\n",
      "_________________________________\n",
      "confusion matrix for probability 0.4400000000000001\n",
      "    0   1\n",
      "0  63  22\n",
      "1   4  75\n",
      "Accuracy of Logistic Regression in cv data 0.8414634146341463\n",
      "Accuracy of Logistic Regression in train data 0.8384146341463414\n",
      "_________________________________\n",
      "confusion matrix for probability 0.46000000000000013\n",
      "    0   1\n",
      "0  63  22\n",
      "1   5  74\n",
      "Accuracy of Logistic Regression in cv data 0.8353658536585366\n",
      "Accuracy of Logistic Regression in train data 0.8323170731707317\n",
      "_________________________________\n",
      "confusion matrix for probability 0.48000000000000015\n",
      "    0   1\n",
      "0  63  22\n",
      "1   6  73\n",
      "Accuracy of Logistic Regression in cv data 0.8292682926829268\n",
      "Accuracy of Logistic Regression in train data 0.8353658536585366\n",
      "_________________________________\n",
      "confusion matrix for probability 0.5000000000000001\n",
      "    0   1\n",
      "0  63  22\n",
      "1   6  73\n",
      "Accuracy of Logistic Regression in cv data 0.8292682926829268\n",
      "Accuracy of Logistic Regression in train data 0.836890243902439\n",
      "_________________________________\n"
     ]
    }
   ],
   "source": [
    "i = 0.30\n",
    "acc = []\n",
    "while(i<=0.52):\n",
    "    print(\"confusion matrix for probability\",+i) \n",
    "    y_pred_proba_cv = clf1.predict_proba(x_cv)\n",
    "    y_pred_proba_train = clf1.predict_proba(x_train)\n",
    "    preds = np.where(y_pred_proba_cv[:,1] > i, 1, 0)\n",
    "    predtrain = np.where(y_pred_proba_train[:,1] > i, 1, 0)\n",
    "    print(pd.DataFrame(confusion_matrix(y_cv,preds)))\n",
    "    x = accuracy_score(y_cv,preds)\n",
    "    y = accuracy_score(y_train,predtrain)\n",
    "    acc.append((x,y))\n",
    "    print(\"Accuracy of Logistic Regression in cv data\",x)\n",
    "    print(\"Accuracy of Logistic Regression in train data\",y)\n",
    "    print(\"_________________________________\")\n",
    "    i = i+0.02"
   ]
  },
  {
   "cell_type": "code",
   "execution_count": 23,
   "id": "1f2610cb",
   "metadata": {},
   "outputs": [],
   "source": [
    "list = [0.30,0.32,0.34,0.36,0.38,0.40,0.42,0.44,.46,0.48,0.50]"
   ]
  },
  {
   "cell_type": "code",
   "execution_count": 24,
   "id": "c660d180",
   "metadata": {
    "scrolled": false
   },
   "outputs": [
    {
     "data": {
      "text/plain": [
       "<matplotlib.legend.Legend at 0x1adbc0a2d00>"
      ]
     },
     "execution_count": 24,
     "metadata": {},
     "output_type": "execute_result"
    },
    {
     "data": {
      "image/png": "[encoded data removed]",
      "text/plain": [
       "<Figure size 640x480 with 1 Axes>"
      ]
     },
     "metadata": {},
     "output_type": "display_data"
    }
   ],
   "source": [
    "plt.plot(list,acc)\n",
    "plt.legend([\"cv_acc\",\"train_acc\"])"
   ]
  },
  {
   "cell_type": "markdown",
   "id": "fdb4e33e",
   "metadata": {},
   "source": [
    "### best threshold value for classification is 0.44 beacause at this threshold train and cross validate accuracy is high"
   ]
  },
  {
   "cell_type": "markdown",
   "id": "9d79ac3e",
   "metadata": {},
   "source": [
    "# Generalization "
   ]
  },
  {
   "cell_type": "code",
   "execution_count": 25,
   "id": "fd9d483c",
   "metadata": {},
   "outputs": [
    {
     "name": "stdout",
     "output_type": "stream",
     "text": [
      "Accuracy of Logistic Regression in test data 0.8341463414634146\n",
      "    0   1\n",
      "0  75  30\n",
      "1   4  96\n",
      "Precision -  0.7619047619047619\n",
      "Recall -  0.96\n",
      "F1 score -  0.8495575221238937\n"
     ]
    }
   ],
   "source": [
    "y_pred_proba_test = clf1.predict_proba(x_test)\n",
    "preds_test = np.where(y_pred_proba_test[:,1] > 0.44, 1, 0)\n",
    "x = accuracy_score(y_test,preds_test)\n",
    "print(\"Accuracy of Logistic Regression in test data\",x)\n",
    "print(pd.DataFrame(confusion_matrix(y_test,preds_test)))\n",
    "print(\"Precision - \",precision_score(y_test,preds_test))\n",
    "print(\"Recall - \",recall_score(y_test,preds_test))\n",
    "print(\"F1 score - \",f1_score(y_test,preds_test))"
   ]
  },
  {
   "cell_type": "markdown",
   "id": "70090620",
   "metadata": {},
   "source": [
    "### accuracy on unseen data is 0.8341"
   ]
  },
  {
   "cell_type": "code",
   "execution_count": null,
   "id": "d18e92d2",
   "metadata": {},
   "outputs": [],
   "source": []
  }
 ],
 "metadata": {
  "kernelspec": {
   "display_name": "Python 3 (ipykernel)",
   "language": "python",
   "name": "python3"
  },
  "language_info": {
   "codemirror_mode": {
    "name": "ipython",
    "version": 3
   },
   "file_extension": ".py",
   "mimetype": "text/x-python",
   "name": "python",
   "nbconvert_exporter": "python",
   "pygments_lexer": "ipython3",
   "version": "3.9.13"
  }
 },
 "nbformat": 4,
 "nbformat_minor": 5
}
